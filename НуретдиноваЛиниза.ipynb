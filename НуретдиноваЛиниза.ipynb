{
  "nbformat": 4,
  "nbformat_minor": 0,
  "metadata": {
    "colab": {
      "provenance": [],
      "authorship_tag": "ABX9TyMIT7pQehOJ2nxgWoIWzZat",
      "include_colab_link": true
    },
    "kernelspec": {
      "name": "python3",
      "display_name": "Python 3"
    },
    "language_info": {
      "name": "python"
    }
  },
  "cells": [
    {
      "cell_type": "markdown",
      "metadata": {
        "id": "view-in-github",
        "colab_type": "text"
      },
      "source": [
        "<a href=\"https://colab.research.google.com/github/Lili786965/python/blob/main/%D0%9D%D1%83%D1%80%D0%B5%D1%82%D0%B4%D0%B8%D0%BD%D0%BE%D0%B2%D0%B0%D0%9B%D0%B8%D0%BD%D0%B8%D0%B7%D0%B0.ipynb\" target=\"_parent\"><img src=\"https://colab.research.google.com/assets/colab-badge.svg\" alt=\"Open In Colab\"/></a>"
      ]
    },
    {
      "cell_type": "markdown",
      "source": [
        "1. Создание базы данных и таблиц"
      ],
      "metadata": {
        "id": "32ck8sD5lGrA"
      }
    },
    {
      "cell_type": "code",
      "execution_count": null,
      "metadata": {
        "id": "wlM6LQzfkHK0"
      },
      "outputs": [],
      "source": [
        "import sqlite3\n",
        "\n",
        "conn = sqlite3.connect('library.db')\n",
        "cursor = conn.cursor()\n",
        "\n",
        "cursor.execute('''\n",
        "CREATE TABLE IF NOT EXISTS books (\n",
        "    id INTEGER PRIMARY KEY AUTOINCREMENT,\n",
        "    title TEXT NOT NULL,\n",
        "    author TEXT NOT NULL,\n",
        "    year_published INTEGER,\n",
        "    genre TEXT\n",
        ")\n",
        "''')\n",
        "\n",
        "conn.commit()"
      ]
    },
    {
      "cell_type": "markdown",
      "source": [
        "2. Вставка данных"
      ],
      "metadata": {
        "id": "JlpF74KdlT0O"
      }
    },
    {
      "cell_type": "code",
      "source": [
        "\n",
        "books = [\n",
        "    (\"The Great Gatsby\", \"F. Scott Fitzgerald\", 1925, \"Fiction\"),\n",
        "    (\"1984\", \"George Orwell\", 1949, \"Dystopian\"),\n",
        "    (\"To Kill a Mockingbird\", \"Harper Lee\", 1960, \"Classic\")\n",
        "]\n",
        "\n",
        "cursor.executemany('''\n",
        "INSERT INTO books (title, author, year_published, genre)\n",
        "VALUES (?, ?, ?, ?)\n",
        "''', books)\n",
        "\n",
        "conn.commit()"
      ],
      "metadata": {
        "id": "CXA6oZ-0lWmm"
      },
      "execution_count": null,
      "outputs": []
    },
    {
      "cell_type": "markdown",
      "source": [
        "3. Выборка всех данных"
      ],
      "metadata": {
        "id": "kRRNkK7alZ27"
      }
    },
    {
      "cell_type": "code",
      "source": [
        "cursor.execute(\"SELECT * FROM books\")\n",
        "all_books = cursor.fetchall()\n",
        "print(\"Все книги:\")\n",
        "for book in all_books:\n",
        "    print(book)"
      ],
      "metadata": {
        "id": "3YKT-o5GlhBW"
      },
      "execution_count": null,
      "outputs": []
    },
    {
      "cell_type": "markdown",
      "source": [
        "4. Фильтрация данных"
      ],
      "metadata": {
        "id": "sJSYMACQlkhg"
      }
    },
    {
      "cell_type": "code",
      "source": [
        "cursor.execute(\"SELECT * FROM books WHERE year_published > 1950\")\n",
        "books_after_1950 = cursor.fetchall()\n",
        "print(\"\\nКниги после 1950 года:\")\n",
        "for book in books_after_1950:\n",
        "    print(book)"
      ],
      "metadata": {
        "id": "VyUcMmZXlotp"
      },
      "execution_count": null,
      "outputs": []
    },
    {
      "cell_type": "markdown",
      "source": [
        "5. Использование оператора LIKE"
      ],
      "metadata": {
        "id": "5qXju8ciltD5"
      }
    },
    {
      "cell_type": "code",
      "source": [
        "cursor.execute(\"SELECT * FROM books WHERE title LIKE 'T%'\")\n",
        "books_starting_with_t = cursor.fetchall()\n",
        "print(\"\\nКниги, название которых начинается на 'T':\")\n",
        "for book in books_starting_with_t:\n",
        "    print(book)"
      ],
      "metadata": {
        "id": "O0PjNKfHlvoq"
      },
      "execution_count": null,
      "outputs": []
    },
    {
      "cell_type": "markdown",
      "source": [
        "6. Сортировка данных"
      ],
      "metadata": {
        "id": "kXYxeI7Nlx4e"
      }
    },
    {
      "cell_type": "code",
      "source": [
        "cursor.execute(\"SELECT * FROM books ORDER BY year_published ASC\")\n",
        "sorted_books = cursor.fetchall()\n",
        "print(\"\\nКниги, отсортированные по году публикации:\")\n",
        "for book in sorted_books:\n",
        "    print(book)"
      ],
      "metadata": {
        "id": "VKerfMAVl_Vu"
      },
      "execution_count": null,
      "outputs": []
    },
    {
      "cell_type": "markdown",
      "source": [
        "7. Ограничение количества строк"
      ],
      "metadata": {
        "id": "rfScVBoOl-_B"
      }
    },
    {
      "cell_type": "code",
      "source": [
        "cursor.execute(\"SELECT * FROM books ORDER BY title LIMIT 2\")\n",
        "first_two_books = cursor.fetchall()\n",
        "print(\"\\nПервые две книги по алфавиту:\")\n",
        "for book in first_two_books:\n",
        "    print(book)"
      ],
      "metadata": {
        "id": "2JyqsFBrmDqI"
      },
      "execution_count": null,
      "outputs": []
    },
    {
      "cell_type": "markdown",
      "source": [
        "8. Агрегатные функции"
      ],
      "metadata": {
        "id": "Bt6Qr19Sl714"
      }
    },
    {
      "cell_type": "code",
      "source": [
        "cursor.execute(\"SELECT COUNT(*) FROM books\")\n",
        "total_books = cursor.fetchone()[0]\n",
        "print(f\"\\nОбщее количество книг: {total_books}\")"
      ],
      "metadata": {
        "id": "puasOcSXmJSX"
      },
      "execution_count": null,
      "outputs": []
    },
    {
      "cell_type": "markdown",
      "source": [
        "9. Группировка данных"
      ],
      "metadata": {
        "id": "8T7gud1CmRmL"
      }
    },
    {
      "cell_type": "code",
      "source": [
        "cursor.execute(\"SELECT genre, COUNT(*) FROM books GROUP BY genre\")\n",
        "books_by_genre = cursor.fetchall()\n",
        "print(\"\\nКоличество книг по жанрам:\")\n",
        "for genre, count in books_by_genre:\n",
        "    print(f\"{genre}: {count}\")"
      ],
      "metadata": {
        "id": "nHq_keVimU6I"
      },
      "execution_count": null,
      "outputs": []
    },
    {
      "cell_type": "markdown",
      "source": [
        "10. Обновление данных"
      ],
      "metadata": {
        "id": "5n2mGCGLmW9t"
      }
    },
    {
      "cell_type": "code",
      "source": [
        "cursor.execute(\"UPDATE books SET year_published = 1948 WHERE title = '1984'\")\n",
        "conn.commit()\n",
        "print(\"\\nГод публикации книги '1984' обновлен на 1948\")"
      ],
      "metadata": {
        "id": "f_Lx7I3OmZN9"
      },
      "execution_count": null,
      "outputs": []
    },
    {
      "cell_type": "markdown",
      "source": [
        "11. Удаление данных\n"
      ],
      "metadata": {
        "id": "ljkRacyrmbG_"
      }
    },
    {
      "cell_type": "code",
      "source": [
        "cursor.execute(\"DELETE FROM books WHERE title = 'The Great Gatsby'\")\n",
        "conn.commit()\n",
        "print(\"\\nКнига 'The Great Gatsby' удалена\")"
      ],
      "metadata": {
        "id": "Nj8PlAKRmdrl"
      },
      "execution_count": null,
      "outputs": []
    },
    {
      "cell_type": "markdown",
      "source": [
        "12. Создание индекса"
      ],
      "metadata": {
        "id": "Sul69NdLmgRN"
      }
    },
    {
      "cell_type": "code",
      "source": [
        "cursor.execute(\"CREATE INDEX IF NOT EXISTS idx_author ON books(author)\")\n",
        "conn.commit()\n",
        "print(\"\\nИндекс для столбца author создан\")"
      ],
      "metadata": {
        "id": "fJ6mB78fmiAA"
      },
      "execution_count": null,
      "outputs": []
    },
    {
      "cell_type": "markdown",
      "source": [
        "13. Проверка существования индекса"
      ],
      "metadata": {
        "id": "xyo9GpGvmkGi"
      }
    },
    {
      "cell_type": "code",
      "source": [
        "cursor.execute(\"SELECT name FROM sqlite_master WHERE type = 'index' AND name = 'idx_author'\")\n",
        "index_exists = cursor.fetchone()\n",
        "print(\"\\nИндекс для author существует:\", bool(index_exists))"
      ],
      "metadata": {
        "id": "EAtZA9SemmPN"
      },
      "execution_count": null,
      "outputs": []
    },
    {
      "cell_type": "markdown",
      "source": [
        "14. Триггер для логирования"
      ],
      "metadata": {
        "id": "-mgzc7Vzmoim"
      }
    },
    {
      "cell_type": "code",
      "source": [
        "\n",
        "cursor.execute('''\n",
        "CREATE TABLE IF NOT EXISTS logs (\n",
        "    id INTEGER PRIMARY KEY AUTOINCREMENT,\n",
        "    action TEXT,\n",
        "    book_id INTEGER,\n",
        "    timestamp DATETIME DEFAULT CURRENT_TIMESTAMP\n",
        ")\n",
        "''')\n",
        "\n",
        "cursor.execute('''\n",
        "CREATE TRIGGER IF NOT EXISTS log_book_insert\n",
        "AFTER INSERT ON books\n",
        "BEGIN\n",
        "    INSERT INTO logs (action, book_id) VALUES ('INSERT', NEW.id);\n",
        "END;\n",
        "''')\n",
        "\n",
        "conn.commit()\n",
        "print(\"\\nТриггер для логирования создан\")"
      ],
      "metadata": {
        "id": "zlZfBi7hmrwX"
      },
      "execution_count": null,
      "outputs": []
    },
    {
      "cell_type": "markdown",
      "source": [
        "15. Транзакции"
      ],
      "metadata": {
        "id": "RvqtzJfimuHK"
      }
    },
    {
      "cell_type": "code",
      "source": [
        "try:\n",
        "    conn.execute(\"BEGIN TRANSACTION\")\n",
        "\n",
        "    cursor.execute('''\n",
        "    INSERT INTO books (title, author, year_published, genre)\n",
        "    VALUES ('The Catcher in the Rye', 'J.D. Salinger', 1951, 'Classic')\n",
        "    ''')\n",
        "\n",
        "    cursor.execute(\"UPDATE books SET year_published = 1949 WHERE title = '1984'\")\n",
        "\n",
        "    conn.commit()\n",
        "    print(\"\\nТранзакция выполнена успешно\")\n",
        "\n",
        "except sqlite3.Error as e:\n",
        "    conn.rollback()\n",
        "    print(\"\\nОшибка в транзакции, изменения отменены:\", e)"
      ],
      "metadata": {
        "id": "hke6O7U0mxH8"
      },
      "execution_count": null,
      "outputs": []
    },
    {
      "cell_type": "markdown",
      "source": [
        "16. Пользовательская функция"
      ],
      "metadata": {
        "id": "KBhqLzzWmzed"
      }
    },
    {
      "cell_type": "code",
      "source": [
        "import datetime\n",
        "\n",
        "def calculate_book_age(year_published):\n",
        "    current_year = datetime.datetime.now().year\n",
        "    return current_year - year_published\n",
        "\n",
        "conn.create_function(\"book_age\", 1, calculate_book_age)\n",
        "\n",
        "cursor.execute(\"SELECT title, book_age(year_published) FROM books\")\n",
        "books_with_age = cursor.fetchall()\n",
        "print(\"\\nКниги с их возрастом:\")\n",
        "for title, age in books_with_age:\n",
        "    print(f\"{title}: {age} лет\")"
      ],
      "metadata": {
        "id": "lpNBz9X-m2s8"
      },
      "execution_count": null,
      "outputs": []
    },
    {
      "cell_type": "markdown",
      "source": [
        "17. Представления"
      ],
      "metadata": {
        "id": "75Lpu6Mnm5Ee"
      }
    },
    {
      "cell_type": "code",
      "source": [
        "cursor.execute('''\n",
        "CREATE VIEW IF NOT EXISTS modern_books AS\n",
        "SELECT * FROM books WHERE year_published > 1950\n",
        "''')\n",
        "\n",
        "cursor.execute(\"SELECT * FROM modern_books\")\n",
        "modern_books = cursor.fetchall()\n",
        "print(\"\\nСовременные книги (после 1950 года):\")\n",
        "for book in modern_books:\n",
        "    print(book)"
      ],
      "metadata": {
        "id": "QM-hS2Ywm7Gn"
      },
      "execution_count": null,
      "outputs": []
    },
    {
      "cell_type": "markdown",
      "source": [
        "18. Удаление таблицы"
      ],
      "metadata": {
        "id": "Uc-cRPoEm9RY"
      }
    },
    {
      "cell_type": "code",
      "source": [
        "cursor.execute(\"DROP TABLE IF EXISTS books\")\n",
        "cursor.execute(\"SELECT name FROM sqlite_master WHERE type='table' AND name='books'\")\n",
        "table_exists = cursor.fetchone()\n",
        "print(\"\\nТаблица books существует после удаления:\", bool(table_exists))"
      ],
      "metadata": {
        "id": "014hZf4Im_rd"
      },
      "execution_count": null,
      "outputs": []
    },
    {
      "cell_type": "markdown",
      "source": [
        "19. Композитный индекс"
      ],
      "metadata": {
        "id": "XE_5wRlSnDXt"
      }
    },
    {
      "cell_type": "code",
      "source": [
        "cursor.execute(\"CREATE INDEX IF NOT EXISTS idx_author_year ON books(author, year_published)\")\n",
        "conn.commit()\n",
        "print(\"\\nКомпозитный индекс для author и year_published создан\")"
      ],
      "metadata": {
        "id": "oPflnxyZnI41"
      },
      "execution_count": null,
      "outputs": []
    },
    {
      "cell_type": "markdown",
      "source": [
        "20. Удаление базы данных"
      ],
      "metadata": {
        "id": "spy3O0U0nQSV"
      }
    },
    {
      "cell_type": "code",
      "source": [
        "import os\n",
        "\n",
        "conn.close()\n",
        "\n",
        "if os.path.exists('library.db'):\n",
        "    os.remove('library.db')\n",
        "    print(\"\\nФайл базы данных library.db удален\")\n",
        "else:\n",
        "    print(\"\\nФайл базы данных library.db не существует\")"
      ],
      "metadata": {
        "id": "Dk3ODdWgnVFa"
      },
      "execution_count": null,
      "outputs": []
    },
    {
      "cell_type": "markdown",
      "source": [
        "21. Обязательное задание.\n",
        "Создать базу данных (БД)."
      ],
      "metadata": {
        "id": "yv03my9JnZer"
      }
    },
    {
      "cell_type": "code",
      "source": [
        "\n",
        "class Student:\n",
        "    def __init__(self, id, name, age, grade):\n",
        "        self.id = id\n",
        "        self.name = name\n",
        "        self.age = age\n",
        "        self.grade = grade\n",
        "\n",
        "conn = sqlite3.connect('school.db')\n",
        "cursor = conn.cursor()\n",
        "\n",
        "cursor.execute('''\n",
        "CREATE TABLE IF NOT EXISTS students (\n",
        "    id INTEGER PRIMARY KEY,\n",
        "    name TEXT NOT NULL,\n",
        "    age INTEGER,\n",
        "    grade REAL\n",
        ")\n",
        "''')\n",
        "conn.commit()\n",
        "\n",
        "def add_student(student):\n",
        "    cursor.execute('''\n",
        "    INSERT INTO students (id, name, age, grade)\n",
        "    VALUES (?, ?, ?, ?)\n",
        "    ''', (student.id, student.name, student.age, student.grade))\n",
        "    conn.commit()\n",
        "\n",
        "\n",
        "def get_all_students():\n",
        "    cursor.execute(\"SELECT * FROM students\")\n",
        "    return cursor.fetchall()\n",
        "\n",
        "student1 = Student(1, \"Иван Иванов\", 18, 4.5)\n",
        "student2 = Student(2, \"Петр Петров\", 19, 3.8)\n",
        "\n",
        "add_student(student1)\n",
        "add_student(student2)\n",
        "\n",
        "print(\"\\nВсе студенты:\")\n",
        "for student in get_all_students():\n",
        "    print(student)\n",
        "\n",
        "conn.close()"
      ],
      "metadata": {
        "id": "9uCejyF5naN0"
      },
      "execution_count": null,
      "outputs": []
    }
  ]
}